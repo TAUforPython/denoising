{
  "nbformat": 4,
  "nbformat_minor": 0,
  "metadata": {
    "colab": {
      "provenance": [],
      "authorship_tag": "ABX9TyPkbFb1b1NFrbl8hAjjFHCS",
      "include_colab_link": true
    },
    "kernelspec": {
      "name": "python3",
      "display_name": "Python 3"
    },
    "language_info": {
      "name": "python"
    }
  },
  "cells": [
    {
      "cell_type": "markdown",
      "metadata": {
        "id": "view-in-github",
        "colab_type": "text"
      },
      "source": [
        "<a href=\"https://colab.research.google.com/github/TAUforPython/denoising/blob/main/Denoising_Signal.ipynb\" target=\"_parent\"><img src=\"https://colab.research.google.com/assets/colab-badge.svg\" alt=\"Open In Colab\"/></a>"
      ]
    },
    {
      "cell_type": "code",
      "execution_count": 1,
      "metadata": {
        "id": "eeJk0Jw_XFpW"
      },
      "outputs": [],
      "source": [
        "# устанавливаем библиотеки \n",
        "import pywt\n",
        "import numpy as np\n",
        "import matplotlib.pyplot as plt"
      ]
    },
    {
      "cell_type": "code",
      "source": [
        "# случайный сигнал\n",
        "\n",
        "# число точек в выборке\n",
        "N = 60*5\n",
        "# задаем максимальное время (конечное) чуть больше чеме 2*pi, начало отсчета в нуле.\n",
        "T = 5.0 \n",
        "t = np.linspace(0.0, T, N)\n",
        "\n",
        "y = np.sin(3.0 * 2.0*np.pi*t) + np.random.normal(0, scale=0.5, size=len(t))"
      ],
      "metadata": {
        "id": "om867SVRXrQA"
      },
      "execution_count": 3,
      "outputs": []
    },
    {
      "cell_type": "code",
      "source": [
        "# Plotting\n",
        "plt.figure(figsize=(10, 5))\n",
        "plt.plot(t, y)\n",
        "plt.grid(color='gray', linestyle=':', linewidth=0.5)\n",
        "plt.show()"
      ],
      "metadata": {
        "id": "fmuGZBYeX1xZ"
      },
      "execution_count": null,
      "outputs": []
    }
  ]
}